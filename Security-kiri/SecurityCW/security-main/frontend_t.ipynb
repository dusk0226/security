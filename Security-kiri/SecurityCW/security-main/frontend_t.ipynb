{
 "cells": [
  {
   "cell_type": "code",
   "execution_count": null,
   "metadata": {},
   "outputs": [],
   "source": [
    "from flask import Flask, render_template, request, redirect, url_for\n",
    "from flask_login import LoginManager, UserMixin, login_user, login_required, logout_user, current_user\n",
    "import ssl\n",
    "import logging\n",
    "import os\n",
    "\n",
    "# Setup Flask App\n",
    "app = Flask(__name__, static_folder=\"static\", template_folder=\"templates\")\n",
    "app.secret_key = \"supersecretkey\"  # Required for session management\n",
    "\n",
    "# Enable Logging\n",
    "logging.basicConfig(filename=\"server.log\", level=logging.INFO, format=\"%(asctime)s - %(levelname)s - %(message)s\")\n",
    "\n",
    "# Flask-Login Setup\n",
    "login_manager = LoginManager()\n",
    "login_manager.init_app(app)\n",
    "login_manager.login_view = \"login\"  # Redirects unauthenticated users\n",
    "\n",
    "# Mock User Database\n",
    "users = {\"admin\": {\"password\": \"1234\"}}  # Simple user storage\n",
    "\n",
    "# User Class\n",
    "class User(UserMixin):\n",
    "    def __init__(self, username):\n",
    "        self.id = username\n",
    "\n",
    "@login_manager.user_loader\n",
    "def load_user(user_id):\n",
    "    return User(user_id) if user_id in users else None\n",
    "\n",
    "# Route: Homepage\n",
    "@app.route(\"/\")\n",
    "def home():\n",
    "    return render_template(\"index.html\")\n",
    "\n",
    "# Route: Login Page\n",
    "@app.route(\"/login\", methods=[\"GET\", \"POST\"])\n",
    "def login():\n",
    "    if request.method == \"POST\":\n",
    "        username = request.form[\"username\"]\n",
    "        password = request.form[\"password\"]\n",
    "        if username in users and users[username][\"password\"] == password:\n",
    "            user = User(username)\n",
    "            login_user(user)\n",
    "            logging.info(f\"User {username} logged in.\")\n",
    "            return redirect(url_for(\"dashboard\"))\n",
    "        else:\n",
    "            logging.warning(\"Failed login attempt\")\n",
    "    return render_template(\"login.html\")\n",
    "\n",
    "# Route: Protected Dashboard\n",
    "@app.route(\"/dashboard\")\n",
    "@login_required\n",
    "def dashboard():\n",
    "    return f\"Welcome {current_user.id}, this is your secure dashboard!\"\n",
    "\n",
    "# Route: Logout\n",
    "@app.route(\"/logout\")\n",
    "@login_required\n",
    "def logout():\n",
    "    logging.info(f\"User {current_user.id} logged out.\")\n",
    "    logout_user()\n",
    "    return redirect(url_for(\"login\"))\n",
    "\n",
    "# Run HTTPS Server\n",
    "if __name__ == \"__main__\":\n",
    "    context = (\"cert.pem\", \"key.pem\")  # SSL certificate & key (see below)\n",
    "    app.run(host=\"localhost\", port=8080, ssl_context=context)\n",
    "\n",
    "    "
   ]
  },
  {
   "cell_type": "code",
   "execution_count": 6,
   "metadata": {},
   "outputs": [
    {
     "name": "stdout",
     "output_type": "stream",
     "text": [
      "sever starts at 2025-03-04 22:21:47\n",
      " * Serving Flask app '__main__'\n",
      " * Debug mode: on\n"
     ]
    },
    {
     "name": "stderr",
     "output_type": "stream",
     "text": [
      "WARNING: This is a development server. Do not use it in a production deployment. Use a production WSGI server instead.\n",
      " * Running on http://localhost:8080\n",
      "Press CTRL+C to quit\n",
      " * Restarting with stat\n"
     ]
    },
    {
     "ename": "SystemExit",
     "evalue": "1",
     "output_type": "error",
     "traceback": [
      "An exception has occurred, use %tb to see the full traceback.\n",
      "\u001b[31mSystemExit\u001b[39m\u001b[31m:\u001b[39m 1\n"
     ]
    },
    {
     "name": "stderr",
     "output_type": "stream",
     "text": [
      "e:\\Miniforge\\envs\\Csecurity\\Lib\\site-packages\\IPython\\core\\interactiveshell.py:3554: UserWarning: To exit: use 'exit', 'quit', or Ctrl-D.\n",
      "  warn(\"To exit: use 'exit', 'quit', or Ctrl-D.\", stacklevel=1)\n"
     ]
    }
   ],
   "source": [
    "# simplest version backup\n",
    "from flask import Flask, render_template\n",
    "import time\n",
    "from datetime import datetime\n",
    "\n",
    "host_name = 'localhost'\n",
    "port_number = 8080\n",
    "app = Flask(__name__, static_folder=\"static\", template_folder=\"templates\")\n",
    "\n",
    "@app.route(\"/\")\n",
    "def home():\n",
    "    return render_template(\"index.html\")\n",
    "\n",
    "\n",
    "if __name__ == \"__main__\":\n",
    "    # record start time\n",
    "    start_timestamp = time.time()\n",
    "    start_time = datetime.fromtimestamp(start_timestamp).strftime('%Y-%m-%d %H:%M:%S')\n",
    "    print(f\"sever starts at {start_time}\")\n",
    "\n",
    "    try:\n",
    "        context = (\"cert.pem\", \"key.pem\")  # Use the generated SSL certificate\n",
    "        app.run(host=host_name, port=port_number, ssl_context=context)\n",
    "    except KeyboardInterrupt:\n",
    "        pass\n",
    "\n",
    "    # record end time\n",
    "    end_timestamp = time.time()\n",
    "    end_time = datetime.fromtimestamp(end_timestamp).strftime('%Y-%m-%d %H:%M:%S')\n",
    "    print(f\"sever ends at {end_time}\")"
   ]
  },
  {
   "cell_type": "code",
   "execution_count": 7,
   "metadata": {},
   "outputs": [
    {
     "name": "stdout",
     "output_type": "stream",
     "text": [
      "b':\\xb0\\x99\\x83#\\xc4\\xc5{\\xf4\\x13b\\xc3\\x1e`\\xeeY\\x81\\x02\\xe1.k\\x01\\xc2\\x14'\n"
     ]
    }
   ],
   "source": [
    "# frontend backup\n",
    "from flask import Flask, render_template, request, redirect, url_for, session, flash, jsonify\n",
    "import time\n",
    "from datetime import datetime\n",
    "import os\n",
    "\n",
    "\n",
    "host_name = 'localhost' # Must be 'localhost' for https\n",
    "port_number = 8080 # 8080 for local host or 5000 (flask defualt port number)\n",
    "app = Flask(__name__, static_folder=\"static\", template_folder=\"templates\")\n",
    "\n",
    "app.secret_key = 'my_secret_key' # unsecure key only for test\n",
    "\n",
    "# read users' names and passwords\n",
    "users = {\"admin\": {\"password\": \"1234\"}}  \n",
    "\n",
    "\n",
    "SESSION_TIMEOUT = 20  # after this time of no activities, log the user out \n",
    "\n",
    "@app.before_request\n",
    "def enforce_session_timeout():\n",
    "    \"\"\"Check if the session has expired\"\"\"\n",
    "    if 'username' in session:\n",
    "        last_activity = session.get(\"last_activity\", time.time())\n",
    "        if time.time() - last_activity > SESSION_TIMEOUT:\n",
    "            session.pop(\"username\", None)  # Remove user session\n",
    "            session.pop(\"last_activity\", None)\n",
    "            flash(\"Session expired. Please log in again.\", \"warning\")\n",
    "            return redirect(url_for(\"login\"))\n",
    "\n",
    "        session[\"last_activity\"] = time.time()  # Update last activity timestamp\n",
    "\n",
    "\n",
    "@app.route('/login', methods=['GET', 'POST'])\n",
    "def login():\n",
    "    if request.method == 'POST':\n",
    "        username = request.form['username']\n",
    "        password = request.form['password']\n",
    "        # record valid username\n",
    "        if username in users and users[username]['password'] == password:\n",
    "            session['username'] = username\n",
    "            session[\"last_activity\"] = time.time()\n",
    "            flash(\"Login successful!\", \"success\")\n",
    "            return redirect(url_for('home'))\n",
    "        else:\n",
    "            flash(\"Invalid credentials, please try again.\", \"error\")\n",
    "    return render_template('login.html') \n",
    "\n",
    "@app.route(\"/update_activity\", methods=[\"POST\"])\n",
    "def update_activity():\n",
    "    \"\"\"Update session activity when user interacts.\"\"\"\n",
    "    if \"username\" in session:\n",
    "        session[\"last_activity\"] = time.time()\n",
    "        return jsonify({\"status\": \"success\"})\n",
    "    return jsonify({\"status\": \"error\"}), 403\n",
    "\n",
    "@app.route(\"/logout\")\n",
    "def logout():\n",
    "    session.pop(\"username\", None)\n",
    "    session.pop(\"last_activity\", None)\n",
    "    flash(\"You have been logged out.\", \"info\")\n",
    "    return redirect(url_for(\"login\"))\n",
    "\n",
    "@app.route(\"/\")\n",
    "def home():\n",
    "    # Check if there is a valid user. If so, go to the home page.\n",
    "    if 'username' not in session:\n",
    "        return redirect(url_for('login'))\n",
    "    return render_template(\"index.html\")\n",
    "\n",
    "if __name__ == \"__main__\":\n",
    "    # record start time\n",
    "    start_timestamp = time.time()\n",
    "    start_time = datetime.fromtimestamp(start_timestamp).strftime('%Y-%m-%d %H:%M:%S')\n",
    "    print(f\"server starts at {start_time}\")\n",
    "\n",
    "    try:\n",
    "        context = (\"cert.pem\", \"key.pem\")  # Use the generated SSL certificate\n",
    "        app.run(host=host_name, port=port_number, ssl_context=context)\n",
    "    except KeyboardInterrupt:\n",
    "        pass\n",
    "\n",
    "    # record end time\n",
    "    end_timestamp = time.time()\n",
    "    end_time = datetime.fromtimestamp(end_timestamp).strftime('%Y-%m-%d %H:%M:%S')\n",
    "    print(f\"server ends at {end_time}\")"
   ]
  },
  {
   "cell_type": "code",
   "execution_count": 2,
   "metadata": {},
   "outputs": [
    {
     "name": "stdout",
     "output_type": "stream",
     "text": [
      "40.0\n",
      "500.0\n",
      "1010.0\n",
      "120.0\n"
     ]
    }
   ],
   "source": [
    "import sqlite3\n",
    "bank_database = \"bank.db\"\n",
    "def get_db_connect():\n",
    "    \"\"\"Establish a connection to the SQLite database.\"\"\"\n",
    "    conn = sqlite3.connect(database=bank_database)\n",
    "    conn.row_factory = sqlite3.Row\n",
    "    return conn\n",
    "\n",
    "conn = get_db_connect()\n",
    "users = conn.execute(\"SELECT * FROM users\").fetchall()\n",
    "    \n",
    "for i in users:\n",
    "    print(i['balance'])"
   ]
  },
  {
   "cell_type": "code",
   "execution_count": 3,
   "metadata": {},
   "outputs": [
    {
     "name": "stdout",
     "output_type": "stream",
     "text": [
      "1001\n",
      "<class 'int'>\n",
      "1002\n",
      "<class 'int'>\n",
      "1003\n",
      "<class 'int'>\n",
      "1004\n",
      "<class 'int'>\n"
     ]
    }
   ],
   "source": [
    "import sqlite3\n",
    "bank_database = \"bank.db\"\n",
    "def get_db_connect():\n",
    "    \"\"\"Establish a connection to the SQLite database.\"\"\"\n",
    "    conn = sqlite3.connect(database=bank_database)\n",
    "    conn.row_factory = sqlite3.Row\n",
    "    return conn\n",
    "\n",
    "conn = get_db_connect()\n",
    "users = conn.execute(\"SELECT * FROM users\").fetchall()\n",
    "    \n",
    "for i in users:\n",
    "    print(i['id'])\n",
    "    print(type(i['id']))"
   ]
  }
 ],
 "metadata": {
  "kernelspec": {
   "display_name": "Python 3",
   "language": "python",
   "name": "python3"
  },
  "language_info": {
   "codemirror_mode": {
    "name": "ipython",
    "version": 3
   },
   "file_extension": ".py",
   "mimetype": "text/x-python",
   "name": "python",
   "nbconvert_exporter": "python",
   "pygments_lexer": "ipython3",
   "version": "3.11.11"
  }
 },
 "nbformat": 4,
 "nbformat_minor": 2
}
